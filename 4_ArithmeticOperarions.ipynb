{
 "cells": [
  {
   "cell_type": "markdown",
   "metadata": {},
   "source": [
    "### Program to find Factorial:"
   ]
  },
  {
   "cell_type": "code",
   "execution_count": 12,
   "metadata": {},
   "outputs": [
    {
     "name": "stdout",
     "output_type": "stream",
     "text": [
      "Enter a number:0\n",
      "1\n"
     ]
    }
   ],
   "source": [
    "n = int(input(\"Enter a number:\"))\n",
    "sum = 1\n",
    "for i in range(1,n+1):\n",
    "    sum = sum * i\n",
    "print(sum)"
   ]
  },
  {
   "cell_type": "markdown",
   "metadata": {},
   "source": [
    "### Simple Interest Program:"
   ]
  },
  {
   "cell_type": "code",
   "execution_count": 14,
   "metadata": {},
   "outputs": [
    {
     "name": "stdout",
     "output_type": "stream",
     "text": [
      "Enter the Principal amount:100\n",
      "Enter the rate of interest:10\n",
      "Enter the tenure:1\n",
      "10.0\n"
     ]
    }
   ],
   "source": [
    "p = int(input(\"Enter the Principal amount:\"))\n",
    "r = float(input(\"Enter the rate of interest:\"))\n",
    "t = float(input(\"Enter the tenure:\"))\n",
    "i = p*t*r/100\n",
    "print(i)"
   ]
  },
  {
   "cell_type": "markdown",
   "metadata": {},
   "source": [
    "### Sum of squares of first n natural numbers:"
   ]
  },
  {
   "cell_type": "code",
   "execution_count": 21,
   "metadata": {},
   "outputs": [
    {
     "name": "stdout",
     "output_type": "stream",
     "text": [
      "Enter a number:10\n",
      "385\n"
     ]
    }
   ],
   "source": [
    "n = int(input(\"Enter a number:\"))\n",
    "sum = 0\n",
    "for i in range(1,n+1):\n",
    "    sum = sum + i**2\n",
    "print(sum)"
   ]
  },
  {
   "cell_type": "markdown",
   "metadata": {},
   "source": [
    "### Fibonaci Series:"
   ]
  },
  {
   "cell_type": "code",
   "execution_count": 1,
   "metadata": {},
   "outputs": [
    {
     "name": "stdout",
     "output_type": "stream",
     "text": [
      "Enter a number:5\n",
      "0\n",
      "1\n",
      "1\n",
      "2\n",
      "3\n"
     ]
    }
   ],
   "source": [
    "n = int(input(\"Enter a number:\"))\n",
    "sum = 0\n",
    "first = 0\n",
    "second = 1\n",
    "for i in range(0,n):\n",
    "    if i <= 1:\n",
    "        sum = i\n",
    "    else:\n",
    "        sum = first + second\n",
    "        first = second\n",
    "        second = sum\n",
    "    print(sum)"
   ]
  },
  {
   "cell_type": "markdown",
   "metadata": {},
   "source": [
    "### To Check whether a number is a Fibonacci Number:"
   ]
  },
  {
   "cell_type": "code",
   "execution_count": 39,
   "metadata": {},
   "outputs": [
    {
     "name": "stdout",
     "output_type": "stream",
     "text": [
      "Enter a number:1000\n",
      "It is not a Fibonacci number\n",
      "[0, 1, 1, 2, 3, 5, 8, 13, 21, 34, 55, 89, 144, 233, 377, 610, 987, 1597, 2584, 4181, 6765, 10946, 17711, 28657, 46368, 75025, 121393, 196418, 317811, 514229]\n"
     ]
    }
   ],
   "source": [
    "n = int(input(\"Enter a number:\"))\n",
    "sum = 0\n",
    "first = 0\n",
    "second = 1\n",
    "fibo = []\n",
    "for i in range(0,30):\n",
    "    if i <= 1:\n",
    "        sum = i\n",
    "    else:\n",
    "        sum = first + second\n",
    "        first = second\n",
    "        second = sum    \n",
    "    fibo.append(sum)\n",
    "if n in fibo:\n",
    "    print(\"It is a Fibonacci number\")\n",
    "else:\n",
    "    print(\"It is not a Fibonacci number\")"
   ]
  }
 ],
 "metadata": {
  "kernelspec": {
   "display_name": "Python 3",
   "language": "python",
   "name": "python3"
  },
  "language_info": {
   "codemirror_mode": {
    "name": "ipython",
    "version": 3
   },
   "file_extension": ".py",
   "mimetype": "text/x-python",
   "name": "python",
   "nbconvert_exporter": "python",
   "pygments_lexer": "ipython3",
   "version": "3.7.3"
  }
 },
 "nbformat": 4,
 "nbformat_minor": 2
}
