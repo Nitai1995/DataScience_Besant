{
 "cells": [
  {
   "cell_type": "code",
   "execution_count": 3,
   "metadata": {},
   "outputs": [
    {
     "name": "stdout",
     "output_type": "stream",
     "text": [
      "Enter the radius:3\n",
      "28.27431\n"
     ]
    }
   ],
   "source": [
    "#Area of triangle:\n",
    "pi = 3.14159\n",
    "radius = float(input(\"Enter the radius:\"))\n",
    "area = pi * radius ** 2\n",
    "print(area)"
   ]
  },
  {
   "cell_type": "code",
   "execution_count": 1,
   "metadata": {},
   "outputs": [
    {
     "name": "stdout",
     "output_type": "stream",
     "text": [
      "Enter the kilometers:10\n",
      "Miles: 6.21\n"
     ]
    }
   ],
   "source": [
    "# km to miles:\n",
    "km = float(input(\"Enter the kilometers:\"))\n",
    "print(\"Miles:\", 0.621*km)"
   ]
  },
  {
   "cell_type": "code",
   "execution_count": 6,
   "metadata": {},
   "outputs": [
    {
     "name": "stdout",
     "output_type": "stream",
     "text": [
      "Enter a number:0.2\n",
      "The number is positive\n"
     ]
    }
   ],
   "source": [
    "#Program to check if a number is positive, negative or zero:\n",
    "number = float(input(\"Enter a number:\"))\n",
    "if number > 0:\n",
    "    print(\"The number is positive\")\n",
    "elif number < 0:\n",
    "    print(\"The number is negative\")\n",
    "else:\n",
    "    print(\"Zero\")"
   ]
  },
  {
   "cell_type": "code",
   "execution_count": 12,
   "metadata": {},
   "outputs": [
    {
     "name": "stdout",
     "output_type": "stream",
     "text": [
      "Enter the year:10400\n",
      "It is a leap year.\n"
     ]
    }
   ],
   "source": [
    "#Program to check leap year:\n",
    "year = int(input(\"Enter the year:\"))\n",
    "quo = year/100\n",
    "rem = year%100\n",
    "if rem%4 == 0 and (rem != 0 or quo%4 == 0): \n",
    "        print(\"It is a leap year.\") \n",
    "else:\n",
    "    print(\"It is not a leap year.\")"
   ]
  },
  {
   "cell_type": "code",
   "execution_count": null,
   "metadata": {},
   "outputs": [],
   "source": []
  },
  {
   "cell_type": "code",
   "execution_count": null,
   "metadata": {},
   "outputs": [],
   "source": []
  }
 ],
 "metadata": {
  "kernelspec": {
   "display_name": "Python 3",
   "language": "python",
   "name": "python3"
  },
  "language_info": {
   "codemirror_mode": {
    "name": "ipython",
    "version": 3
   },
   "file_extension": ".py",
   "mimetype": "text/x-python",
   "name": "python",
   "nbconvert_exporter": "python",
   "pygments_lexer": "ipython3",
   "version": "3.7.3"
  }
 },
 "nbformat": 4,
 "nbformat_minor": 2
}
